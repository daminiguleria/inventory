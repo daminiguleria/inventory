{
  "nbformat": 4,
  "nbformat_minor": 0,
  "metadata": {
    "colab": {
      "name": "inventory management.ipynb",
      "provenance": [],
      "collapsed_sections": []
    },
    "kernelspec": {
      "name": "python3",
      "display_name": "Python 3"
    },
    "language_info": {
      "name": "python"
    }
  },
  "cells": [
    {
      "cell_type": "code",
      "metadata": {
        "id": "IJjRB7cy7RgX"
      },
      "source": [
        "record= {\n",
        "    1000 : {\"item\": \"orange juice\" , \"price\" : 80 , \"quantity\" : 30  },\n",
        "    1001 : {\"item\": \"choclatecake\" , \"price\" : 80 , \"quantity\" : 100 },     \n",
        "    1002 : {\"item\": \"kitkat\" , \"price\" : 40 , \"quantity\" : 10 }, \n",
        "    1003 : {\"item\": \"oreo\" , \"price\" : 10 , \"quantity\" : 100 }, \n",
        "    1004 : {\"item\": \"coffee\" , \"price\" : 10 , \"quantity\" : 100 }, \n",
        "    1005 : {\"item\": \"tea\" , \"price\" : 10 , \"quantity\" : 100 }, \n",
        "}"
      ],
      "execution_count": 57,
      "outputs": []
    },
    {
      "cell_type": "code",
      "metadata": {
        "id": "hMba-ubXsf7L"
      },
      "source": [
        "import json\n"
      ],
      "execution_count": 2,
      "outputs": []
    },
    {
      "cell_type": "code",
      "metadata": {
        "id": "_HQ386jTC3zP"
      },
      "source": [
        "fd=open(\"record.json\",\"r\")\n",
        "r=fd.read()\n",
        "fd.close()"
      ],
      "execution_count": 42,
      "outputs": []
    },
    {
      "cell_type": "code",
      "metadata": {
        "colab": {
          "base_uri": "https://localhost:8080/"
        },
        "id": "Nj4mgfZMUddd",
        "outputId": "0e33de4f-f24d-42af-ea08-3f1f0c9852ca"
      },
      "source": [
        "record\n"
      ],
      "execution_count": 39,
      "outputs": [
        {
          "output_type": "execute_result",
          "data": {
            "text/plain": [
              "{1000: {'item': 'orange juice', 'price': 80, 'quantity': 30},\n",
              " 1001: {'item': 'choclatecake', 'price': 80, 'quantity': 100},\n",
              " 1002: {'item': 'kitkat', 'price': 40, 'quantity': 10},\n",
              " 1003: {'item': 'oreo', 'price': 10, 'quantity': 100},\n",
              " 1004: {'item': 'coffee', 'price': 10, 'quantity': 100},\n",
              " 1005: {'item': 'tea', 'price': 10, 'quantity': 100}}"
            ]
          },
          "metadata": {},
          "execution_count": 39
        }
      ]
    },
    {
      "cell_type": "markdown",
      "metadata": {
        "id": "fXH4FUYF_Um8"
      },
      "source": [
        "# New Section"
      ]
    },
    {
      "cell_type": "code",
      "metadata": {
        "colab": {
          "base_uri": "https://localhost:8080/"
        },
        "id": "6cQiDL5aDKxE",
        "outputId": "8dadc5c1-d879-43f2-a572-cc86db9d6e65"
      },
      "source": [
        "pro_id = int(input(\"Enter product_id:\"))\n",
        "item = str(input(\"Enter name of item:\"))  #add new item in inventory\n",
        "price = int(input(\"Enter Quantity:\"))\n",
        "quantity = int(input(\"Enter Quantity:\"))\n",
        "\n",
        "\n",
        "  \n"
      ],
      "execution_count": 58,
      "outputs": [
        {
          "name": "stdout",
          "output_type": "stream",
          "text": [
            "Enter product_id:1006\n",
            "Enter name of item:icecreame\n",
            "Enter Quantity:20\n",
            "Enter Quantity:30\n"
          ]
        }
      ]
    },
    {
      "cell_type": "code",
      "metadata": {
        "id": "4WBpF-aiwkPk"
      },
      "source": [
        "record[pro_id]= {'item': item, 'price': price, 'quantity': quantity }\n"
      ],
      "execution_count": 63,
      "outputs": []
    },
    {
      "cell_type": "code",
      "metadata": {
        "colab": {
          "base_uri": "https://localhost:8080/"
        },
        "id": "y-HOGJdjwkSm",
        "outputId": "35cacc7e-73a3-4d17-a6cf-c344ac68c2a4"
      },
      "source": [
        "record"
      ],
      "execution_count": 64,
      "outputs": [
        {
          "output_type": "execute_result",
          "data": {
            "text/plain": [
              "{1000: {'item': 'orange juice', 'price': 80, 'quantity': 30},\n",
              " 1001: {'item': 'choclatecake', 'price': 80, 'quantity': 100},\n",
              " 1002: {'item': 'kitkat', 'price': 40, 'quantity': 10},\n",
              " 1003: {'item': 'oreo', 'price': 10, 'quantity': 100},\n",
              " 1004: {'item': 'coffee', 'price': 10, 'quantity': 100},\n",
              " 1005: {'item': 'tea', 'price': 10, 'quantity': 100},\n",
              " 1006: {'item': 'icecreame', 'price': 20, 'quantity': 30}}"
            ]
          },
          "metadata": {},
          "execution_count": 64
        }
      ]
    },
    {
      "cell_type": "markdown",
      "metadata": {
        "id": "tsyiRdNJprWL"
      },
      "source": [
        "purchase\n"
      ]
    },
    {
      "cell_type": "code",
      "metadata": {
        "colab": {
          "base_uri": "https://localhost:8080/"
        },
        "id": "cJ_3dNdhvWBK",
        "outputId": "a6ed3880-95ed-4649-90bf-5635dfa10990"
      },
      "source": [
        "pro_id=int(input(\"enter product id\"))\n",
        "quantity=int(input(\"enter quantity\"))\n",
        "record[pro_id]\n",
        "\n"
      ],
      "execution_count": 66,
      "outputs": [
        {
          "name": "stdout",
          "output_type": "stream",
          "text": [
            "enter product id1004\n",
            "enter quantity1\n"
          ]
        },
        {
          "output_type": "execute_result",
          "data": {
            "text/plain": [
              "{'item': 'coffee', 'price': 10, 'quantity': 100}"
            ]
          },
          "metadata": {},
          "execution_count": 66
        }
      ]
    },
    {
      "cell_type": "markdown",
      "metadata": {
        "id": "DCTyJSAPsgX5"
      },
      "source": [
        "finding product in **inventory**"
      ]
    },
    {
      "cell_type": "code",
      "metadata": {
        "colab": {
          "base_uri": "https://localhost:8080/"
        },
        "id": "6EdyQGjpwjR_",
        "outputId": "6ba6b6cd-93b6-4bac-d6a1-3aa5eeb4afad"
      },
      "source": [
        "pro_id=int(input(\"enter product id\"))\n",
        "quantity=int(input(\"enter quantity\"))\n",
        "\n",
        "product = record.get(pro_id)\n",
        "\n",
        "if product:\n",
        "  print('product name: ',product.get('item'))\n",
        "  print('price per unit: ', product.get('price'))\n",
        "  print('amount to be paid: ', ui_quantity*product.get('price'))\n",
        "  product['quantity']-=ui_quantity\n",
        "else:\n",
        "  print('product not found')"
      ],
      "execution_count": 67,
      "outputs": [
        {
          "output_type": "stream",
          "name": "stdout",
          "text": [
            "enter product id1007\n",
            "enter quantity2\n",
            "product not found\n"
          ]
        }
      ]
    },
    {
      "cell_type": "markdown",
      "metadata": {
        "id": "7vbNtqIFpYky"
      },
      "source": [
        ""
      ]
    }
  ]
}